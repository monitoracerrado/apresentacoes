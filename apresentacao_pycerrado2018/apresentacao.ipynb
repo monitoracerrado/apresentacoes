{
 "cells": [
  {
   "cell_type": "markdown",
   "metadata": {},
   "source": [
    "### Primeiros Passos - Monitora Cerrado com Micropython\n",
    "1. [Jupyter Notebook(Kernel Micropython)](instala_kernel_micropython.ipynb)\n",
    "1. [Micropython(Pre-requisitos)](flashing-pre-requisitos.ipynb)\n",
    "1. [Micropython(Flashing)](flashing.ipynb)\n",
    "1. [Modulo bme280(pre-requisitos)](i2c_bmp280-pre-requisitos.ipynb)\n",
    "1. [Modulo bme280(primeiros passos acesso ao sensor na ESP8266)](i2c_bmp280.ipynb)\n",
    "1. [Modulo DH22  (primeiros passos acesso ao sensor na ESP8266)](ESP8266_DH22.ipynb)\n",
    "1. [MQTT(Pre-requisitos)](ESP8266_MQTT-pre-requisitos.ipynb)\n",
    "1. [MQTT(Oi Mosquito)](ESP8266_MQTT.ipynb)"
   ]
  }
 ],
 "metadata": {
  "kernelspec": {
   "display_name": "Python [default]",
   "language": "python",
   "name": "python3"
  },
  "language_info": {
   "codemirror_mode": {
    "name": "ipython",
    "version": 3
   },
   "file_extension": ".py",
   "mimetype": "text/x-python",
   "name": "python",
   "nbconvert_exporter": "python",
   "pygments_lexer": "ipython3",
   "version": "3.6.5"
  }
 },
 "nbformat": 4,
 "nbformat_minor": 2
}
