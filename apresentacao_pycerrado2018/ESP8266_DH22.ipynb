{
 "cells": [
  {
   "cell_type": "markdown",
   "metadata": {},
   "source": [
    "[Inicio](apresentacao.ipynb)\n",
    "# Sensor DH22"
   ]
  },
  {
   "cell_type": "code",
   "execution_count": null,
   "metadata": {},
   "outputs": [],
   "source": [
    "%websocketconnect --password andre ws://192.168.2.22:8266/"
   ]
  },
  {
   "cell_type": "code",
   "execution_count": null,
   "metadata": {},
   "outputs": [],
   "source": [
    "%websocketconnect --password andre ws://192.168.4.1:8266/"
   ]
  },
  {
   "cell_type": "code",
   "execution_count": null,
   "metadata": {},
   "outputs": [],
   "source": [
    "%serialconnect to --port=com5 --baud=115200"
   ]
  },
  {
   "cell_type": "markdown",
   "metadata": {},
   "source": [
    "![ESP8266_PINS](https://raw.githubusercontent.com/lvidarte/esp8266/master/nodemcu_pins.png)"
   ]
  },
  {
   "cell_type": "code",
   "execution_count": null,
   "metadata": {},
   "outputs": [],
   "source": [
    "import dht\n",
    "import machine\n",
    "import time"
   ]
  },
  {
   "cell_type": "code",
   "execution_count": null,
   "metadata": {},
   "outputs": [],
   "source": [
    "d = dht.DHT22(machine.Pin(16))\n",
    "#d.measure()\n",
    "#print(d.temperature())\n",
    "#print(d.humidity())"
   ]
  },
  {
   "cell_type": "code",
   "execution_count": null,
   "metadata": {},
   "outputs": [],
   "source": [
    "for i in range(10):\n",
    " print(i)\n",
    " time.sleep(10)\n",
    " d.measure()\n",
    " print(d.temperature())\n",
    " print(d.humidity())\n"
   ]
  },
  {
   "cell_type": "code",
   "execution_count": null,
   "metadata": {},
   "outputs": [],
   "source": [
    "%disconnect"
   ]
  },
  {
   "cell_type": "markdown",
   "metadata": {},
   "source": [
    "Referências\n",
    "---\n",
    "\n",
    "- https://docs.micropython.org/en/latest/esp8266/esp8266/tutorial/dht.html\n",
    "- http://climaduino.monitoracerrado.org/"
   ]
  }
 ],
 "metadata": {
  "kernelspec": {
   "display_name": "MicroPython - USB",
   "language": "micropython",
   "name": "micropython"
  },
  "language_info": {
   "codemirror_mode": "python",
   "file_extension": ".py",
   "mimetype": "text/python",
   "name": "micropython"
  }
 },
 "nbformat": 4,
 "nbformat_minor": 2
}
