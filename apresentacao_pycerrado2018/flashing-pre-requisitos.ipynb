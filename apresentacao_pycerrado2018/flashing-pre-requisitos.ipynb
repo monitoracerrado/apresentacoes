{
 "cells": [
  {
   "cell_type": "markdown",
   "metadata": {},
   "source": [
    "[Inicio](apresentacao.ipynb)<br>\n",
    "\n",
    "Instalar Drivers da ESP8266 para que o S.O. possa acessar-la\n",
    "\n",
    "* https://www.silabs.com/products/development-tools/software/usb-to-uart-bridge-vcp-drivers\n",
    "* http://micropython.org/download#esp8266"
   ]
  },
  {
   "cell_type": "code",
   "execution_count": 3,
   "metadata": {},
   "outputs": [
    {
     "name": "stdout",
     "output_type": "stream",
     "text": [
      "Collecting requests\n",
      "  Downloading https://files.pythonhosted.org/packages/65/47/7e02164a2a3db50ed6d8a6ab1d6d60b69c4c3fdf57a284257925dfc12bda/requests-2.19.1-py2.py3-none-any.whl (91kB)\n",
      "Collecting idna<2.8,>=2.5 (from requests)\n",
      "  Downloading https://files.pythonhosted.org/packages/4b/2a/0276479a4b3caeb8a8c1af2f8e4355746a97fab05a372e4a2c6a6b876165/idna-2.7-py2.py3-none-any.whl (58kB)\n",
      "Collecting chardet<3.1.0,>=3.0.2 (from requests)\n",
      "  Downloading https://files.pythonhosted.org/packages/bc/a9/01ffebfb562e4274b6487b4bb1ddec7ca55ec7510b22e4c51f14098443b8/chardet-3.0.4-py2.py3-none-any.whl (133kB)\n",
      "Collecting urllib3<1.24,>=1.21.1 (from requests)\n",
      "  Downloading https://files.pythonhosted.org/packages/bd/c9/6fdd990019071a4a32a5e7cb78a1d92c53851ef4f56f62a3486e6a7d8ffb/urllib3-1.23-py2.py3-none-any.whl (133kB)\n",
      "Requirement already satisfied: certifi>=2017.4.17 in c:\\users\\andre.b2t\\anaconda3\\envs\\java_env\\lib\\site-packages (from requests) (2018.8.24)\n",
      "Installing collected packages: idna, chardet, urllib3, requests\n",
      "Successfully installed chardet-3.0.4 idna-2.7 requests-2.19.1 urllib3-1.23\n"
     ]
    }
   ],
   "source": [
    "!pip install requests\n",
    "#import requests\n",
    "\n",
    "#url = 'http://micropython.org/resources/firmware/esp8266-20180511-v1.9.4.bin'\n",
    "#r = requests.get(url, allow_redirects=True)\n",
    "#open('esp8266-20180511-v1.9.4.bin', 'wb').write(r.content)"
   ]
  },
  {
   "cell_type": "code",
   "execution_count": 4,
   "metadata": {},
   "outputs": [
    {
     "data": {
      "text/plain": [
       "604872"
      ]
     },
     "execution_count": 4,
     "metadata": {},
     "output_type": "execute_result"
    }
   ],
   "source": [
    "import requests\n",
    "\n",
    "url = 'http://micropython.org/resources/firmware/esp8266-20180511-v1.9.4.bin'\n",
    "r = requests.get(url, allow_redirects=True)\n",
    "open('esp8266-20180511-v1.9.4.bin', 'wb').write(r.content)"
   ]
  },
  {
   "cell_type": "code",
   "execution_count": null,
   "metadata": {},
   "outputs": [],
   "source": []
  }
 ],
 "metadata": {
  "kernelspec": {
   "display_name": "Python [default]",
   "language": "python",
   "name": "python3"
  },
  "language_info": {
   "codemirror_mode": {
    "name": "ipython",
    "version": 3
   },
   "file_extension": ".py",
   "mimetype": "text/x-python",
   "name": "python",
   "nbconvert_exporter": "python",
   "pygments_lexer": "ipython3",
   "version": "3.6.5"
  }
 },
 "nbformat": 4,
 "nbformat_minor": 2
}
