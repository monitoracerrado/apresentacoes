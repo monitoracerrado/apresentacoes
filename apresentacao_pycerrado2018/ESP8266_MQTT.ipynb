{
 "cells": [
  {
   "cell_type": "markdown",
   "metadata": {},
   "source": [
    "[Inicio](apresentacao.ipynb)<br>\n",
    "[MQTT(pre-requisitos)](ESP8266_MQTT-pre-requisitos.ipynb)\n",
    "# Oi MQTT - Simples publicação"
   ]
  },
  {
   "cell_type": "code",
   "execution_count": null,
   "metadata": {},
   "outputs": [],
   "source": [
    "%websocketconnect --password andre ws://192.168.4.1:8266/"
   ]
  },
  {
   "cell_type": "code",
   "execution_count": null,
   "metadata": {},
   "outputs": [],
   "source": [
    "import upip"
   ]
  },
  {
   "cell_type": "code",
   "execution_count": null,
   "metadata": {},
   "outputs": [],
   "source": [
    "upip.install(\"umqtt\")"
   ]
  },
  {
   "cell_type": "code",
   "execution_count": null,
   "metadata": {},
   "outputs": [],
   "source": [
    "import umqtt"
   ]
  },
  {
   "cell_type": "code",
   "execution_count": null,
   "metadata": {},
   "outputs": [],
   "source": [
    "from umqtt.simple import MQTTClient"
   ]
  },
  {
   "cell_type": "code",
   "execution_count": null,
   "metadata": {},
   "outputs": [],
   "source": [
    "mq = MQTTClient(\"esp8266\",\"rstudio.o2br.net\",1883,\"\",\"\")\n",
    "#o connect deve retornar 0\n",
    "mq.connect()\n",
    "mq.publish(b\"topico/luz_da_bancada\",b\"1\")"
   ]
  },
  {
   "cell_type": "code",
   "execution_count": null,
   "metadata": {},
   "outputs": [],
   "source": [
    "%disconnect"
   ]
  },
  {
   "cell_type": "markdown",
   "metadata": {},
   "source": [
    "Referências\n",
    "---\n",
    "\n",
    "- https://docs.micropython.org/en/latest/esp8266/esp8266/tutorial/dht.html\n",
    "- http://climaduino.monitoracerrado.org/"
   ]
  }
 ],
 "metadata": {
  "kernelspec": {
   "display_name": "MicroPython - USB",
   "language": "micropython",
   "name": "micropython"
  },
  "language_info": {
   "codemirror_mode": "python",
   "file_extension": ".py",
   "mimetype": "text/python",
   "name": "micropython"
  }
 },
 "nbformat": 4,
 "nbformat_minor": 2
}
