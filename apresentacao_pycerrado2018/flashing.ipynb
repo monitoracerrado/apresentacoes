{
 "cells": [
  {
   "cell_type": "markdown",
   "metadata": {},
   "source": [
    "[Inicio](Apresentacao.ipynb)<br>\n",
    "[Micropython(Pre-requisitos)](flashing-pre-requisitos.ipynb)\n",
    "\n",
    "Erase flash memory\n",
    "--\n",
    "Set the right port."
   ]
  },
  {
   "cell_type": "code",
   "execution_count": 10,
   "metadata": {},
   "outputs": [
    {
     "name": "stdout",
     "output_type": "stream",
     "text": [
      "\u001b[34mExecuting:\n",
      "  esptool --port com5 erase_flash\n",
      "\n",
      "\u001b[0mesptool.py v2.4.1\n",
      "Serial port com5\n",
      "Connecting....\n",
      "\u001b[34m[Press the PRG button now if required]\n",
      "\u001b[0mDetecting chip type... ESP8266\n",
      "Chip is ESP8266EX\n",
      "Features: WiFi\n",
      "MAC: 5c:cf:7f:37:56:c3\n",
      "Uploading stub...\n",
      "Running stub...\n",
      "Stub running...\n",
      "Erasing flash (this may take a while)...\n",
      "Chip erase completed successfully in 11.6s\n",
      "Hard resetting via RTS pin...\n"
     ]
    }
   ],
   "source": [
    "%esptool --port=com4 erase"
   ]
  },
  {
   "cell_type": "markdown",
   "metadata": {},
   "source": [
    "##### Write micropython firmware\n",
    "--\n",
    "Set the right port and the right path to the bin file."
   ]
  },
  {
   "cell_type": "code",
   "execution_count": 13,
   "metadata": {},
   "outputs": [
    {
     "name": "stdout",
     "output_type": "stream",
     "text": [
      "usage: %esptool [--port PORT] {erase,esp32,esp8266} [binfile]\n",
      "\n",
      "positional arguments:\n",
      "  {erase,esp32,esp8266}\n",
      "  binfile\n",
      "\n",
      "optional arguments:\n",
      "  --port PORT\n",
      "Please download the bin file from https://micropython.org/download/#esp8266"
     ]
    }
   ],
   "source": [
    "%esptool esp8266 --port=com5 --baud 115200 write_flash --flash_size=detect 0 esp8266-20180511-v1.9.4.bin"
   ]
  },
  {
   "cell_type": "markdown",
   "metadata": {},
   "source": [
    "Connecting via Serial\n",
    "---\n",
    "Set the right port."
   ]
  },
  {
   "cell_type": "code",
   "execution_count": 3,
   "metadata": {},
   "outputs": [
    {
     "name": "stdout",
     "output_type": "stream",
     "text": [
      "\u001b[34mConnecting to --port=com5 --baud=115200 \u001b[0m\n",
      "\u001b[34mReady.\n",
      "\u001b[0m"
     ]
    }
   ],
   "source": [
    "%serialconnect to --port=com5 --baud=115200"
   ]
  },
  {
   "cell_type": "markdown",
   "metadata": {},
   "source": [
    "Writing the webREPL configuration\n",
    "--\n",
    "Set the desired password."
   ]
  },
  {
   "cell_type": "code",
   "execution_count": 9,
   "metadata": {},
   "outputs": [
    {
     "name": "stdout",
     "output_type": "stream",
     "text": [
      "OI\n"
     ]
    }
   ],
   "source": [
    "print(\"OI\")"
   ]
  },
  {
   "cell_type": "code",
   "execution_count": 11,
   "metadata": {},
   "outputs": [],
   "source": [
    "import os"
   ]
  },
  {
   "cell_type": "code",
   "execution_count": 12,
   "metadata": {},
   "outputs": [
    {
     "name": "stdout",
     "output_type": "stream",
     "text": [
      "['boot.py', 'webrepl_cfg.py', 'net_cfg.py']\n"
     ]
    }
   ],
   "source": [
    "print(os.listdir())"
   ]
  },
  {
   "cell_type": "code",
   "execution_count": 13,
   "metadata": {},
   "outputs": [
    {
     "name": "stdout",
     "output_type": "stream",
     "text": [
      "# This file is executed on every boot (including wake-boot from deepsleep)\n",
      "import gc\n",
      "import webrepl\n",
      "import net_cfg as net\n",
      "\n",
      "def do_connect(SSID,PASSWD):\n",
      "    import network\n",
      "    sta_if = network.WLAN(network.STA_IF)\n",
      "    if not sta_if.isconnected():\n",
      "        print('connecting to network...')\n",
      "        sta_if.active(True)\n",
      "        sta_if.connect(SSID,PASSWD)\n",
      "        while not sta_if.isconnected():\n",
      "            pass\n",
      "    print('network config:', sta_if.ifconfig())\n",
      "\n",
      "do_connect(net.SSID,net.PASSWD)\n",
      "webrepl.start()\n",
      "gc.collect()\n"
     ]
    }
   ],
   "source": [
    "f = open(\"boot.py\")\n",
    "print(f.read())\n",
    "f.close()"
   ]
  },
  {
   "cell_type": "code",
   "execution_count": 5,
   "metadata": {},
   "outputs": [
    {
     "name": "stdout",
     "output_type": "stream",
     "text": [
      "Sent 1 lines (15 bytes) to webrepl_cfg.py.\n"
     ]
    }
   ],
   "source": [
    "%sendtofile webrepl_cfg.py\n",
    "PASS = '123456'"
   ]
  },
  {
   "cell_type": "markdown",
   "metadata": {},
   "source": [
    "Writing wifi settings\n",
    "--\n",
    "Set the SSID and password of the desired network."
   ]
  },
  {
   "cell_type": "code",
   "execution_count": 6,
   "metadata": {},
   "outputs": [
    {
     "name": "stdout",
     "output_type": "stream",
     "text": [
      "Sent 2 lines (39 bytes) to net_cfg.py.\n"
     ]
    }
   ],
   "source": [
    "%sendtofile net_cfg.py\n",
    "SSID = 'Calango'\n",
    "PASSWD = 'hackerspace'"
   ]
  },
  {
   "cell_type": "markdown",
   "metadata": {},
   "source": [
    "Writing boot.py\n",
    "---"
   ]
  },
  {
   "cell_type": "code",
   "execution_count": 7,
   "metadata": {},
   "outputs": [
    {
     "name": "stdout",
     "output_type": "stream",
     "text": [
      "Sent 19 lines (518 bytes) to boot.py.\n"
     ]
    }
   ],
   "source": [
    "%sendtofile boot.py\n",
    "# This file is executed on every boot (including wake-boot from deepsleep)\n",
    "import gc\n",
    "import webrepl\n",
    "import net_cfg as net\n",
    "\n",
    "def do_connect(SSID,PASSWD):\n",
    "    import network\n",
    "    sta_if = network.WLAN(network.STA_IF)\n",
    "    if not sta_if.isconnected():\n",
    "        print('connecting to network...')\n",
    "        sta_if.active(True)\n",
    "        sta_if.connect(SSID,PASSWD)\n",
    "        while not sta_if.isconnected():\n",
    "            pass\n",
    "    print('network config:', sta_if.ifconfig())\n",
    "\n",
    "do_connect(net.SSID,net.PASSWD)\n",
    "webrepl.start()\n",
    "gc.collect()"
   ]
  },
  {
   "cell_type": "code",
   "execution_count": 8,
   "metadata": {},
   "outputs": [
    {
     "name": "stderr",
     "output_type": "stream",
     "text": [
      "Traceback (most recent call last):\n",
      "  File \"<stdin>\", line 1, in <module>\n",
      "ImportError: no module named 'net'\n"
     ]
    }
   ],
   "source": [
    "import net\n"
   ]
  },
  {
   "cell_type": "markdown",
   "metadata": {},
   "source": [
    "Reseting the ESP board\n",
    "--\n",
    "Check the output of this command for the IP."
   ]
  },
  {
   "cell_type": "code",
   "execution_count": 10,
   "metadata": {},
   "outputs": [
    {
     "name": "stdout",
     "output_type": "stream",
     "text": [
      "repl is in normal command mode\n",
      "[\\r\\x03\\x03] b'\\r\\nMicroPython v1.9.4-8-ga9a3caad0 on 2018-05-11; ESP module with ESP8266\\r\\nType \"help()\" for more information.\\r\\n>>> \\r\\n>>> \\r\\nPYB: sof#7 ets_task(40100130, 3, 3fff83ec, 4)\\r\\nconnecting to network...\\r\\nTraceback (most recent call last):\\r\\n  File \"boot.py\", line 17, in <module>\\r\\n  File \"boot.py\", line 14, in do_connect\\r\\nKeyboardInterrupt: \\r\\nOSError: [Errno 2] ENOENT\\r\\nMicroPython v1.9.4-8-ga9a3caad0 on 2018-05-11; ESP module with ESP8266\\r\\nType \"help()\" for more information.\\r\\n>>> \\r\\n>>> '\n",
      "[\\r\\x01] b'\\r\\n>>> \\r\\nraw REPL; CTRL-B to exit\\r\\n>'"
     ]
    }
   ],
   "source": [
    "%rebootdevice"
   ]
  },
  {
   "cell_type": "markdown",
   "metadata": {},
   "source": [
    "Disconecting the serial\n",
    "---"
   ]
  },
  {
   "cell_type": "code",
   "execution_count": 14,
   "metadata": {},
   "outputs": [
    {
     "name": "stdout",
     "output_type": "stream",
     "text": [
      "\u001b[34mattempt to exit paste mode\n",
      "\u001b[0m\u001b[34m[\\r\\x03\\x02] \u001b[0mb'\\r\\nMicroPython v1.9.4-8-ga9a3caad0 on 2018-05-11; ESP module with ESP8266\\r\\nType \"help()\" for more information.\\r\\n>>> '\u001b[34m\n",
      "Closing serial Serial<id=0xee66510550, open=True>(port='com5', baudrate=115200, bytesize=8, parity='N', stopbits=1, timeout=0.5, xonxoff=False, rtscts=False, dsrdtr=False)\n",
      "\u001b[0m"
     ]
    }
   ],
   "source": [
    "%disconnect"
   ]
  },
  {
   "cell_type": "markdown",
   "metadata": {},
   "source": [
    "Conecting via webREPL\n",
    "--\n",
    "You might need to do a had reset to connect via web."
   ]
  },
  {
   "cell_type": "code",
   "execution_count": 21,
   "metadata": {},
   "outputs": [
    {
     "name": "stdout",
     "output_type": "stream",
     "text": [
      "\u001b[34mattempt to exit paste mode\n",
      "\u001b[0m\u001b[34m[\\r\\x03\\x02] \u001b[0mb'Traceback (most recent call last):\\r\\n  File \"boot.py\", line 17, in <module>\\r\\n  File \"boot.py\", line 14, in do_connect\\r\\nKeyboardInterrupt: \\r\\nOSError: [Errno 2] ENOENT\\r\\n\\r\\nMicroPython v1.9.4-8-ga9a3caad0 on 2018-05-11; ESP module with ESP8266\\r\\nType \"help()\" for more information.\\r\\n>>> 1\\r\\n1\\r\\n>>> \\r\\nMicroPython v1.9.4-8-ga9a3caad0 on 2018-05-11; ESP module with ESP8266\\r\\nType \"help()\" for more information.\\r\\n>>> '\u001b[34m\n",
      "Closing serial Serial<id=0xf08a21cc0, open=True>(port='com5', baudrate=115200, bytesize=8, parity='N', stopbits=1, timeout=0.5, xonxoff=False, rtscts=False, dsrdtr=False)\n",
      "\u001b[0mWebsocket Timeout after 5 seconds ws://192.168.1.105:8266/\n"
     ]
    }
   ],
   "source": [
    "%websocketconnect --password 123456 ws://192.168.1.105:8266/"
   ]
  },
  {
   "cell_type": "markdown",
   "metadata": {},
   "source": [
    "Say Hello to the World!\n",
    "---"
   ]
  },
  {
   "cell_type": "code",
   "execution_count": 33,
   "metadata": {},
   "outputs": [
    {
     "name": "stdout",
     "output_type": "stream",
     "text": [
      "Hello World\n"
     ]
    }
   ],
   "source": [
    "print(\"Hello World\")"
   ]
  },
  {
   "cell_type": "code",
   "execution_count": 55,
   "metadata": {},
   "outputs": [],
   "source": [
    "from machine import Pin"
   ]
  },
  {
   "cell_type": "code",
   "execution_count": 56,
   "metadata": {},
   "outputs": [],
   "source": [
    "d1 = Pin(5,Pin.OUT)\n",
    "d2 = Pin(4,Pin.OUT)\n",
    "d3 = Pin(0,Pin.OUT)\n",
    "d4 = Pin(2,Pin.OUT)\n",
    "#d5 = Pin(14,Pin.OUT)\n"
   ]
  },
  {
   "cell_type": "markdown",
   "metadata": {},
   "source": [
    "List all available kernel commands\n",
    "---"
   ]
  },
  {
   "cell_type": "code",
   "execution_count": 76,
   "metadata": {},
   "outputs": [
    {
     "name": "stdout",
     "output_type": "stream",
     "text": [
      "......\n",
      "**[ys] <class 'serial.serialutil.SerialException'>\n",
      "**[ys] GetOverlappedResult failed (PermissionError(13, 'Acesso negado.', None, 5))\n",
      "\n",
      "\n",
      "**[ys] <class 'serial.serialutil.SerialException'>\n",
      "**[ys] ClearCommError failed (PermissionError(13, 'Acesso negado.', None, 5))\n",
      "\n"
     ]
    }
   ],
   "source": [
    "s = 0.1;\n",
    "\n",
    "for i in range(100):\n",
    "    d1.value(1)\n",
    "    d4.value(0)\n",
    "\n",
    "    d2.value(0)\n",
    "    d3.value(1)\n",
    "    \n",
    "    time.sleep(s)\n",
    "    \n",
    "    d1.value(0)\n",
    "    d4.value(1)\n",
    "\n",
    "    d2.value(0)\n",
    "    d3.value(1)\n",
    "    \n",
    "    time.sleep(s)\n",
    "    \n",
    "    d1.value(0)\n",
    "    d4.value(1)\n",
    "\n",
    "    d2.value(1)\n",
    "    d3.value(0)\n",
    "    \n",
    "    time.sleep(s)\n",
    "    \n",
    "    d1.value(1)\n",
    "    d4.value(0)\n",
    "\n",
    "    d2.value(1)\n",
    "    d3.value(0)\n",
    "    \n",
    "    time.sleep(s)\n",
    "\n",
    "\n",
    "\n",
    "\n",
    "#d5.value(0)\n"
   ]
  },
  {
   "cell_type": "code",
   "execution_count": 75,
   "metadata": {},
   "outputs": [],
   "source": [
    "import time"
   ]
  },
  {
   "cell_type": "code",
   "execution_count": null,
   "metadata": {},
   "outputs": [],
   "source": [
    "%lsmagic"
   ]
  }
 ],
 "metadata": {
  "kernelspec": {
   "display_name": "MicroPython - USB",
   "language": "micropython",
   "name": "micropython"
  },
  "language_info": {
   "codemirror_mode": "python",
   "file_extension": ".py",
   "mimetype": "text/python",
   "name": "micropython"
  }
 },
 "nbformat": 4,
 "nbformat_minor": 2
}
