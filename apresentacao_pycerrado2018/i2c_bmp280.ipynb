{
 "cells": [
  {
   "cell_type": "markdown",
   "metadata": {},
   "source": [
    "[Inicio](apresentacao.ipynb) <br>\n",
    "[Modulo bme280(pre-requisitos)](i2c_bmp280-pre-requisitos.ipynb)"
   ]
  },
  {
   "cell_type": "code",
   "execution_count": null,
   "metadata": {},
   "outputs": [],
   "source": [
    "%serialconnect to --port=/dev/tty.wchusbserial1420 --baud=115200 "
   ]
  },
  {
   "cell_type": "code",
   "execution_count": null,
   "metadata": {},
   "outputs": [],
   "source": [
    "%websocketconnect --password andre ws://192.168.4.1:8266/"
   ]
  },
  {
   "cell_type": "code",
   "execution_count": null,
   "metadata": {},
   "outputs": [],
   "source": [
    "%sendtofile --binary --source ./pre-requisitos/mpy_bme280_esp8266/bme280.py --quiet bme280.py"
   ]
  },
  {
   "cell_type": "code",
   "execution_count": null,
   "metadata": {},
   "outputs": [],
   "source": [
    "import os\n",
    "print(os.listdir())"
   ]
  },
  {
   "cell_type": "code",
   "execution_count": null,
   "metadata": {},
   "outputs": [],
   "source": [
    "import machine\n",
    "import bme280"
   ]
  },
  {
   "cell_type": "code",
   "execution_count": null,
   "metadata": {},
   "outputs": [],
   "source": [
    "i2c = machine.I2C(scl=machine.Pin(0), sda=machine.Pin(4))\n",
    "bme = bme280.BME280(i2c=i2c)"
   ]
  },
  {
   "cell_type": "code",
   "execution_count": null,
   "metadata": {},
   "outputs": [],
   "source": [
    "for x in range(5):\n",
    "    print(bme.values)"
   ]
  },
  {
   "cell_type": "code",
   "execution_count": null,
   "metadata": {},
   "outputs": [],
   "source": [
    "%disconnect"
   ]
  },
  {
   "cell_type": "markdown",
   "metadata": {},
   "source": [
    "Referências\n",
    "---\n",
    "* https://micropython-iot-hackathon.readthedocs.io/en/latest/firmware-and-testing.html\n",
    "* http://embedded-lab.com/blog/making-simple-weather-web-server-using-esp8266-bme280/\n",
    "* https://www.silabs.com/products/development-tools/software (Instalação Drive ESP8266, CH220 )\n",
    "* https://www.arduinoecia.com.br/2018/07/como-instalar-micropython-no-esp8266-nodemcu.html(Instruções Basicas)\n",
    "* https://cloud4rpi.io/ (Outra opção de servidor/servico MQTT)\n",
    "* https://www.arduinoecia.com.br/2014/11/arduino-modulo-rtc-ds1302.html (i2c realtime clock)"
   ]
  },
  {
   "cell_type": "code",
   "execution_count": null,
   "metadata": {},
   "outputs": [],
   "source": []
  }
 ],
 "metadata": {
  "kernelspec": {
   "display_name": "MicroPython - USB",
   "language": "micropython",
   "name": "micropython"
  },
  "language_info": {
   "codemirror_mode": "python",
   "file_extension": ".py",
   "mimetype": "text/python",
   "name": "micropython"
  }
 },
 "nbformat": 4,
 "nbformat_minor": 2
}
