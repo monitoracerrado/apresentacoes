{
 "cells": [
  {
   "cell_type": "code",
   "execution_count": null,
   "metadata": {},
   "outputs": [],
   "source": [
    "%serialconnect to --port=com3 --baud=115200"
   ]
  },
  {
   "cell_type": "code",
   "execution_count": null,
   "metadata": {},
   "outputs": [],
   "source": [
    "import machine\n",
    "import bme280"
   ]
  },
  {
   "cell_type": "code",
   "execution_count": null,
   "metadata": {},
   "outputs": [],
   "source": []
  },
  {
   "cell_type": "code",
   "execution_count": null,
   "metadata": {},
   "outputs": [],
   "source": [
    "i2c = machine.I2C(scl=machine.Pin(5), sda=machine.Pin(4))\n",
    "bme = bme280.BME280(i2c=i2c)\n",
    "#print(bme.values)"
   ]
  },
  {
   "cell_type": "code",
   "execution_count": null,
   "metadata": {},
   "outputs": [],
   "source": [
    "i2c = machine.I2C(scl=machine.Pin(0),sda=machine.Pin(4))\n"
   ]
  },
  {
   "cell_type": "markdown",
   "metadata": {},
   "source": [
    "Referencias \n",
    "---\n",
    "\n",
    "* https://github.com/catdog2/mpy_bme280_esp8266\n",
    "* http://embedded-lab.com/blog/making-simple-weather-web-server-using-esp8266-bme280/\n",
    "* https://fazerlab.wordpress.com/2017/11/14/micropython-sensor-de-temperatura-e-pressao-atmosferica-bmp280/\n",
    "* https://forum.micropython.org/viewtopic.php?t=1315\n",
    "\n",
    "\n",
    "* https://www.hackster.io/glovebox/secure-sensor-streaming-over-https-to-azure-iot-hub-dba05d\n",
    "* http://arduino-er.blogspot.com/2016/04/nodemcu-esp8266-to-display-on-128x64.html"
   ]
  }
 ],
 "metadata": {
  "kernelspec": {
   "display_name": "MicroPython - USB",
   "language": "micropython",
   "name": "micropython"
  },
  "language_info": {
   "codemirror_mode": "python",
   "file_extension": ".py",
   "mimetype": "text/python",
   "name": "micropython"
  }
 },
 "nbformat": 4,
 "nbformat_minor": 2
}
